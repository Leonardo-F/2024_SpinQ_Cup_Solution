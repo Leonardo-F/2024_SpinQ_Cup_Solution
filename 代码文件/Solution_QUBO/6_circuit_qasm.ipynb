{
 "cells": [
  {
   "cell_type": "markdown",
   "metadata": {
    "collapsed": false,
    "jupyter": {
     "outputs_hidden": false
    }
   },
   "source": [
    "##### 生成变分电路的 OpenQASM 格式"
   ]
  },
  {
   "cell_type": "markdown",
   "metadata": {},
   "source": [
    "注意，本文件运行是需要包含的 qiskit 的环境，即 requirements_noise"
   ]
  },
  {
   "cell_type": "code",
   "execution_count": 1,
   "metadata": {},
   "outputs": [],
   "source": [
    "# 导入必要的库\n",
    "import pennylane as qml\n",
    "from pennylane import numpy as np\n",
    "\n",
    "import VQE_until\n",
    "import hamiltonian_until\n",
    "from qasm_until import export_to_openqasm"
   ]
  },
  {
   "cell_type": "code",
   "execution_count": 2,
   "metadata": {},
   "outputs": [],
   "source": [
    "# 参数设置\n",
    "deep_layer = 1 \n",
    "tol_qubits = hamiltonian_until.tol_qubits\n",
    "\n",
    "# 最优参数\n",
    "params = np.array([4.71237303, 4.7124589,  1.57078406, 4.71237222, 4.71235171, 1.5708085,\n",
    " 1.57080377, 1.57074532, 1.57081405, 4.71238723, 1.57089928, 4.71242189])\n",
    "\n",
    "dev = qml.device(\"default.qubit\", wires=tol_qubits)\n",
    "\n",
    "\n",
    "# 定义电路函数\n",
    "circuit_fn = VQE_until.variational_circuit_expval\n",
    "# 创建运行节点\n",
    "qnode = qml.QNode(circuit_fn, dev)"
   ]
  },
  {
   "cell_type": "code",
   "execution_count": 3,
   "metadata": {},
   "outputs": [],
   "source": [
    "qnode(params, deep_layer)\n",
    "\n",
    "# 获取量子电路的量子脚本\n",
    "quantum_script = qnode.tape\n",
    "\n",
    "# 导出电路为 OpenQASM 格式\n",
    "qasm_str = export_to_openqasm(quantum_script)\n",
    "\n",
    "\n",
    "# 保存到文件\n",
    "with open(\"circuit.qasm\", \"w\") as file:\n",
    "    file.write(qasm_str)"
   ]
  },
  {
   "cell_type": "code",
   "execution_count": 4,
   "metadata": {},
   "outputs": [
    {
     "name": "stdout",
     "output_type": "stream",
     "text": [
      " 0: ──H──RY(4.71)─╭●───────────────────────────────╭X─┤  \n",
      " 1: ──H──RY(4.71)─╰X─╭●────────────────────────────│──┤  \n",
      " 2: ──H──RY(1.57)────╰X─╭●─────────────────────────│──┤  \n",
      " 3: ──H──RY(4.71)───────╰X─╭●──────────────────────│──┤  \n",
      " 4: ──H──RY(4.71)──────────╰X─╭●───────────────────│──┤  \n",
      " 5: ──H──RY(1.57)─────────────╰X─╭●────────────────│──┤  \n",
      " 6: ──H──RY(1.57)────────────────╰X─╭●─────────────│──┤  \n",
      " 7: ──H──RY(1.57)───────────────────╰X─╭●──────────│──┤  \n",
      " 8: ──H──RY(1.57)──────────────────────╰X─╭●───────│──┤  \n",
      " 9: ──H──RY(4.71)─────────────────────────╰X─╭●────│──┤  \n",
      "10: ──H──RY(1.57)────────────────────────────╰X─╭●─│──┤  \n",
      "11: ──H──RY(4.71)───────────────────────────────╰X─╰●─┤  \n"
     ]
    }
   ],
   "source": [
    "# 导入上述保存的 OpenQASM 格式，并绘图，查看是否一致\n",
    "my_circuit = qml.from_qasm_file(\"circuit.qasm\")\n",
    "\n",
    "drawer = qml.draw(my_circuit)\n",
    "print(drawer())\n",
    "# 结果是一致的"
   ]
  },
  {
   "cell_type": "code",
   "execution_count": null,
   "metadata": {},
   "outputs": [],
   "source": []
  }
 ],
 "metadata": {
  "kernelspec": {
   "display_name": "pennylane_new",
   "language": "python",
   "name": "python3"
  },
  "language_info": {
   "codemirror_mode": {
    "name": "ipython",
    "version": 3
   },
   "file_extension": ".py",
   "mimetype": "text/x-python",
   "name": "python",
   "nbconvert_exporter": "python",
   "pygments_lexer": "ipython3",
   "version": "3.11.9"
  }
 },
 "nbformat": 4,
 "nbformat_minor": 4
}
