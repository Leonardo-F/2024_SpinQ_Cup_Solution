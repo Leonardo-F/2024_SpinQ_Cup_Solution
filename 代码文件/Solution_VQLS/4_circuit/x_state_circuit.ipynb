{
 "cells": [
  {
   "cell_type": "markdown",
   "metadata": {
    "collapsed": false,
    "jupyter": {
     "outputs_hidden": false
    }
   },
   "source": [
    "### 构造可以生成 x state 的变分量子电路"
   ]
  },
  {
   "cell_type": "code",
   "execution_count": 1,
   "metadata": {},
   "outputs": [],
   "source": [
    "# 导入必要的库\n",
    "# from jax import numpy as jnp\n",
    "# import jax    # 机器学习库\n",
    "# import optax  # 优化器\n",
    "import matplotlib.pyplot as plt\n",
    "\n",
    "import pennylane as qml\n",
    "\n",
    "from pennylane import numpy as np\n",
    "# from qasm_until import export_to_openqasm"
   ]
  },
  {
   "cell_type": "code",
   "execution_count": 2,
   "metadata": {},
   "outputs": [
    {
     "name": "stdout",
     "output_type": "stream",
     "text": [
      "[0.         0.         0.         0.89943803 0.37476584 0.22485951\n",
      " 0.         0.        ]\n",
      "1.0\n",
      "1.0\n"
     ]
    }
   ],
   "source": [
    "A_matrix = np.array([[2, 5, -13],\n",
    "              [1, -3, 1],\n",
    "              [-5, 6, 8]]).astype(float)\n",
    "\n",
    "# 将矩阵 A 变成一个厄尔米特矩阵\n",
    "H_matrix = np.block([[np.zeros((3, 3)), A_matrix], [A_matrix.T, np.zeros((3, 3))]])\n",
    "\n",
    "# 将 H_matrix 变为 8×8，方便用 pauli 算子的线性组合来表示\n",
    "H_matrix_2 = np.zeros((8, 8))\n",
    "\n",
    "for i in range(H_matrix.shape[0]):\n",
    "    for j in range(H_matrix.shape[0]):\n",
    "        H_matrix_2[i,j] = H_matrix[i,j]\n",
    "\n",
    "b_vec = np.array([1000, 0, -600]).astype(float)\n",
    "\n",
    "# 相对应的 b 和 x  也要进行维度拓展，以适应 H_matrixs\n",
    "b_vec_2 = np.zeros((8))\n",
    "b_vec_2[:3] = b_vec\n",
    "b_norm = np.linalg.norm(b_vec_2)\n",
    "\n",
    "\n",
    "x_vec = np.array([1200, 500, 300]).astype(float)\n",
    "# 归一化\n",
    "x_vec_2 = np.zeros((8))\n",
    "x_vec_2[3:6] = x_vec\n",
    "\n",
    "# 计算范数\n",
    "x_norm = np.linalg.norm(x_vec_2)\n",
    "\n",
    "# 归一化向量，转回行向量，方便后续计算\n",
    "x_normalized = (x_vec_2 / x_norm)\n",
    "\n",
    "print(x_normalized)\n",
    "\n",
    "rho = x_normalized.reshape(-1,1) @ x_normalized.reshape(1,-1)\n",
    "\n",
    "print(np.trace(rho))\n",
    "print(np.trace(rho @ rho))"
   ]
  },
  {
   "cell_type": "code",
   "execution_count": 3,
   "metadata": {},
   "outputs": [],
   "source": [
    "# 构造设备\n",
    "# H_matrix_2 只需要 3 qubits，但是后面要变成受控的，所以需要 4 qubits\n",
    "qubits = 3 \n",
    "dev = qml.device(\"default.qubit\", wires=qubits)\n",
    "\n",
    "\n",
    "# 定义一个变分电路\n",
    "@qml.qnode(dev)\n",
    "def variational_circuit(params):\n",
    "    # for i in range(3):\n",
    "    #     qml.Hadamard(wires=i)\n",
    "    qml.BasicEntanglerLayers(params, wires=[0, 1, 2], rotation=qml.RY)\n",
    "    \n",
    "    return qml.state()\n",
    "\n",
    "# 定义损失函数\n",
    "def cost(params):\n",
    "    prepared_state = variational_circuit(params)\n",
    "    return 1 - np.abs(np.dot(np.conj(x_normalized), prepared_state))**2\n",
    "\n",
    "\n",
    "# 初始化参数\n",
    "np.random.seed(1024)\n",
    "shape = qml.BasicEntanglerLayers.shape(n_layers=3, n_wires=3)\n",
    "\n",
    "params = np.random.uniform(low=0, high=2*np.pi, size=shape)\n",
    "# params = qml_np.array(params, requires_grad=True)"
   ]
  },
  {
   "cell_type": "code",
   "execution_count": 4,
   "metadata": {},
   "outputs": [
    {
     "data": {
      "text/plain": [
       "tensor([[4.06956402, 6.26379276, 3.25973705],\n",
       "        [4.13504424, 3.7640268 , 4.73166161],\n",
       "        [0.85606595, 0.02586861, 0.939392  ]], requires_grad=True)"
      ]
     },
     "execution_count": 4,
     "metadata": {},
     "output_type": "execute_result"
    }
   ],
   "source": [
    "params"
   ]
  },
  {
   "cell_type": "code",
   "execution_count": 5,
   "metadata": {},
   "outputs": [
    {
     "name": "stdout",
     "output_type": "stream",
     "text": [
      "Iteration 0: Cost = 0.7529527161741065\n",
      "Iteration 5: Cost = 0.30940376286268645\n",
      "Iteration 10: Cost = 0.09863564969564032\n",
      "Iteration 15: Cost = 0.024002527177112154\n",
      "Iteration 20: Cost = 0.007423023416895158\n",
      "Iteration 25: Cost = 0.0038722045950307926\n",
      "Iteration 30: Cost = 0.002599025760140372\n",
      "Iteration 35: Cost = 0.0018946311699533647\n",
      "Iteration 40: Cost = 0.0014436455447766061\n",
      "Iteration 45: Cost = 0.0011345456290454692\n",
      "Iteration 50: Cost = 0.0009125567824491698\n",
      "Iteration 55: Cost = 0.0007473140659620681\n",
      "Iteration 60: Cost = 0.0006207683693628674\n",
      "Iteration 65: Cost = 0.0005216072283009687\n",
      "Iteration 70: Cost = 0.00044242679237471716\n",
      "Iteration 75: Cost = 0.00037820295508306234\n",
      "Iteration 80: Cost = 0.000325420451822378\n",
      "Iteration 85: Cost = 0.00028155431447540735\n",
      "Iteration 90: Cost = 0.00024474918012196145\n",
      "Iteration 95: Cost = 0.0002136143372882815\n",
      "Iteration 100: Cost = 0.0001870889279915744\n",
      "Iteration 105: Cost = 0.00016435102370671029\n",
      "Iteration 110: Cost = 0.0001447549056872166\n",
      "Iteration 115: Cost = 0.000127786926191642\n",
      "Iteration 120: Cost = 0.00011303388199734865\n",
      "Iteration 125: Cost = 0.00010015998150603167\n",
      "Iteration 130: Cost = 8.888982031973747e-05\n",
      "Iteration 135: Cost = 7.899562655566683e-05\n",
      "Iteration 140: Cost = 7.028758563287774e-05\n",
      "Iteration 145: Cost = 6.260641647237719e-05\n",
      "Iteration 150: Cost = 5.58176144448419e-05\n",
      "Iteration 155: Cost = 4.9806942617136585e-05\n",
      "Iteration 160: Cost = 4.4476867982479185e-05\n",
      "Iteration 165: Cost = 3.97437202700468e-05\n",
      "Iteration 170: Cost = 3.55354084614623e-05\n",
      "Iteration 175: Cost = 3.17895715474803e-05\n",
      "Iteration 180: Cost = 2.8452070213180747e-05\n",
      "Iteration 185: Cost = 2.547574827271859e-05\n",
      "Iteration 190: Cost = 2.2819409117080802e-05\n",
      "Iteration 195: Cost = 2.0446964771103637e-05\n",
      "Final cost: 1.8731985357622882e-05\n",
      "Optimized parameters: [[4.13345498 6.96129538 3.15416639]\n",
      " [3.8794304  4.86300243 4.68250843]\n",
      " [0.41432465 2.37792433 1.63689462]]\n",
      "Prepared Quantum State:\n",
      "[ 1.65081049e-03+0.j -1.40818009e-03+0.j  4.83993970e-04+0.j\n",
      "  8.99651452e-01+0.j  3.74408121e-01+0.j  2.24561260e-01+0.j\n",
      "  9.76495347e-04+0.j -3.48832359e-03+0.j]\n"
     ]
    }
   ],
   "source": [
    "# 使用优化器\n",
    "optimizer = qml.GradientDescentOptimizer(stepsize=0.8)\n",
    "max_iterations = 200\n",
    "tol = 1e-10\n",
    "\n",
    "# 优化参数\n",
    "for i in range(max_iterations):\n",
    "    params, cost_val = optimizer.step_and_cost(cost, params)\n",
    "    if cost_val < tol:\n",
    "        break\n",
    "    if i % 5 == 0:\n",
    "        print(f\"Iteration {i}: Cost = {cost_val}\")\n",
    "\n",
    "print(f\"Final cost: {cost_val}\")\n",
    "print(f\"Optimized parameters: {params}\")\n",
    "\n",
    "# 打印最终准备的量子态\n",
    "final_state = variational_circuit(params)\n",
    "print(\"Prepared Quantum State:\")\n",
    "print(final_state)"
   ]
  },
  {
   "cell_type": "code",
   "execution_count": 6,
   "metadata": {},
   "outputs": [],
   "source": [
    "# import copy \n",
    "# final_state_2 = copy.deepcopy(final_state)\n",
    "# # print(final_state_2)\n",
    "# for i in range(len(final_state)):\n",
    "#     if final_state[i] <= 1e-3:\n",
    "#         final_state_2[i] = 0\n",
    "# print(final_state_2)\n",
    "    "
   ]
  },
  {
   "cell_type": "code",
   "execution_count": 7,
   "metadata": {},
   "outputs": [
    {
     "data": {
      "text/plain": [
       "tensor([[4.13345498, 6.96129538, 3.15416639],\n",
       "        [3.8794304 , 4.86300243, 4.68250843],\n",
       "        [0.41432465, 2.37792433, 1.63689462]], requires_grad=True)"
      ]
     },
     "execution_count": 7,
     "metadata": {},
     "output_type": "execute_result"
    }
   ],
   "source": [
    "params"
   ]
  },
  {
   "cell_type": "code",
   "execution_count": 8,
   "metadata": {},
   "outputs": [
    {
     "name": "stdout",
     "output_type": "stream",
     "text": [
      "[[ 2.18896962e+00 -1.86724246e+00  6.41774514e-01  1.19293506e+03\n",
      "   4.96464016e+02  2.97767540e+02  1.29482982e+00 -4.62550634e+00]]\n"
     ]
    }
   ],
   "source": [
    "value = np.sqrt((H_matrix_2 @ final_state.real.reshape(-1,1)).conj().T @ (H_matrix_2 @ final_state.real.reshape(-1,1)))\n",
    "\n",
    "xxx = b_norm * final_state/value\n",
    "\n",
    "print(xxx.real)"
   ]
  },
  {
   "cell_type": "code",
   "execution_count": 9,
   "metadata": {},
   "outputs": [
    {
     "data": {
      "text/plain": [
       "tensor([ 1.65081049e-03+0.j, -1.40818009e-03+0.j,  4.83993970e-04+0.j,\n",
       "         8.99651452e-01+0.j,  3.74408121e-01+0.j,  2.24561260e-01+0.j,\n",
       "         9.76495347e-04+0.j, -3.48832359e-03+0.j], requires_grad=True)"
      ]
     },
     "execution_count": 9,
     "metadata": {},
     "output_type": "execute_result"
    }
   ],
   "source": [
    "final_state"
   ]
  },
  {
   "cell_type": "code",
   "execution_count": 10,
   "metadata": {},
   "outputs": [
    {
     "data": {
      "text/plain": [
       "tensor([0.        , 0.        , 0.        , 0.89943803, 0.37476584,\n",
       "        0.22485951, 0.        , 0.        ], requires_grad=True)"
      ]
     },
     "execution_count": 10,
     "metadata": {},
     "output_type": "execute_result"
    }
   ],
   "source": [
    "x_normalized"
   ]
  },
  {
   "cell_type": "code",
   "execution_count": 11,
   "metadata": {},
   "outputs": [
    {
     "data": {
      "text/plain": [
       "tensor([1200.,  500.,  300.], requires_grad=True)"
      ]
     },
     "execution_count": 11,
     "metadata": {},
     "output_type": "execute_result"
    }
   ],
   "source": [
    "x_vec"
   ]
  }
 ],
 "metadata": {
  "kernelspec": {
   "display_name": "pennylane_new",
   "language": "python",
   "name": "python3"
  },
  "language_info": {
   "codemirror_mode": {
    "name": "ipython",
    "version": 3
   },
   "file_extension": ".py",
   "mimetype": "text/x-python",
   "name": "python",
   "nbconvert_exporter": "python",
   "pygments_lexer": "ipython3",
   "version": "3.9.18"
  }
 },
 "nbformat": 4,
 "nbformat_minor": 4
}
