{
 "cells": [
  {
   "cell_type": "markdown",
   "metadata": {
    "collapsed": false,
    "jupyter": {
     "outputs_hidden": false
    }
   },
   "source": [
    "### 生成 VQLS 所有电路的 OpenQASM 形式\n",
    "\n",
    "使用含噪的运行环境"
   ]
  },
  {
   "cell_type": "code",
   "execution_count": 1,
   "metadata": {},
   "outputs": [],
   "source": [
    "# 导入必要的库\n",
    "import pennylane as qml\n",
    "from pennylane import numpy as qml_np\n",
    "import VQLS_until\n",
    "import numpy as np\n",
    "\n",
    "import circuit_until\n",
    "from qasm_until import export_to_openqasm"
   ]
  },
  {
   "cell_type": "code",
   "execution_count": 2,
   "metadata": {},
   "outputs": [],
   "source": [
    "# 最优参数\n",
    "w = qml_np.array([3.14161205e+00,  5.80377608e+00,  3.93857269e+00,\n",
    "         4.71236102e+00,  4.42799279e+00,  5.32962513e+00,\n",
    "         2.88556879e-05, -6.91562619e-02,  4.79375314e-01])\n",
    "\n",
    "loss_value = VQLS_until.cost_loc(w)\n",
    "\n",
    "print(\"loss_value = \", loss_value)"
   ]
  },
  {
   "cell_type": "code",
   "execution_count": 3,
   "metadata": {},
   "outputs": [
    {
     "name": "stdout",
     "output_type": "stream",
     "text": [
      "loss_value_2 =  5.551115123125783e-17\n"
     ]
    }
   ],
   "source": [
    "loss_value_2 = circuit_until.cost_loc(w)\n",
    "print(\"loss_value_2 = \", loss_value_2)"
   ]
  },
  {
   "cell_type": "code",
   "execution_count": 3,
   "metadata": {},
   "outputs": [
    {
     "ename": "ValueError",
     "evalue": "Unsupported gate: Adjoint(CNOT)",
     "output_type": "error",
     "traceback": [
      "\u001b[1;31m---------------------------------------------------------------------------\u001b[0m",
      "\u001b[1;31mValueError\u001b[0m                                Traceback (most recent call last)",
      "Cell \u001b[1;32mIn[3], line 15\u001b[0m\n\u001b[0;32m     13\u001b[0m quantum_script \u001b[38;5;241m=\u001b[39m qnode\u001b[38;5;241m.\u001b[39mtape\n\u001b[0;32m     14\u001b[0m \u001b[38;5;66;03m# 导出电路为 OpenQASM 格式\u001b[39;00m\n\u001b[1;32m---> 15\u001b[0m qasm_str \u001b[38;5;241m=\u001b[39m \u001b[43mexport_to_openqasm\u001b[49m\u001b[43m(\u001b[49m\u001b[43mquantum_script\u001b[49m\u001b[43m)\u001b[49m\n\u001b[0;32m     17\u001b[0m \u001b[38;5;66;03m# 保存到文件\u001b[39;00m\n\u001b[0;32m     18\u001b[0m \u001b[38;5;28;01mwith\u001b[39;00m \u001b[38;5;28mopen\u001b[39m(\u001b[38;5;124m\"\u001b[39m\u001b[38;5;124mcircuit.qasm\u001b[39m\u001b[38;5;124m\"\u001b[39m, \u001b[38;5;124m\"\u001b[39m\u001b[38;5;124mw\u001b[39m\u001b[38;5;124m\"\u001b[39m) \u001b[38;5;28;01mas\u001b[39;00m file:\n",
      "File \u001b[1;32mc:\\Users\\Administrator\\Desktop\\SpinQ_Cup_罗马花椰菜\\代码文件\\Solution_VQLS\\4_circuit\\qasm_until.py:37\u001b[0m, in \u001b[0;36mexport_to_openqasm\u001b[1;34m(quantum_script)\u001b[0m\n\u001b[0;32m     35\u001b[0m         qasm_str \u001b[38;5;241m+\u001b[39m\u001b[38;5;241m=\u001b[39m \u001b[38;5;124mf\u001b[39m\u001b[38;5;124m\"\u001b[39m\u001b[38;5;124mmeasure q[\u001b[39m\u001b[38;5;132;01m{\u001b[39;00mwires[\u001b[38;5;241m0\u001b[39m]\u001b[38;5;132;01m}\u001b[39;00m\u001b[38;5;124m] -> c[\u001b[39m\u001b[38;5;132;01m{\u001b[39;00mwires[\u001b[38;5;241m0\u001b[39m]\u001b[38;5;132;01m}\u001b[39;00m\u001b[38;5;124m];\u001b[39m\u001b[38;5;130;01m\\n\u001b[39;00m\u001b[38;5;124m\"\u001b[39m\n\u001b[0;32m     36\u001b[0m     \u001b[38;5;28;01melse\u001b[39;00m:\n\u001b[1;32m---> 37\u001b[0m         \u001b[38;5;28;01mraise\u001b[39;00m \u001b[38;5;167;01mValueError\u001b[39;00m(\u001b[38;5;124mf\u001b[39m\u001b[38;5;124m\"\u001b[39m\u001b[38;5;124mUnsupported gate: \u001b[39m\u001b[38;5;132;01m{\u001b[39;00mname\u001b[38;5;132;01m}\u001b[39;00m\u001b[38;5;124m\"\u001b[39m)\n\u001b[0;32m     39\u001b[0m \u001b[38;5;28;01mreturn\u001b[39;00m qasm_str\n",
      "\u001b[1;31mValueError\u001b[0m: Unsupported gate: Adjoint(CNOT)"
     ]
    }
   ],
   "source": [
    "c = circuit_until.c\n",
    "qubits= circuit_until.qubits\n",
    "weights = w\n",
    "\n",
    "circuit_fn = circuit_until.local_hadamard_test\n",
    "# 创建运行节点\n",
    "dev = qml.device(\"default.qubit\", wires=4)\n",
    "qnode = qml.QNode(circuit_fn, dev)\n",
    "\n",
    "qnode(weights, 0, 1, 2, \"Re\")\n",
    "\n",
    "\n",
    "quantum_script = qnode.tape\n",
    "# 导出电路为 OpenQASM 格式\n",
    "qasm_str = export_to_openqasm(quantum_script)\n",
    "\n",
    "# 保存到文件\n",
    "with open(\"circuit.qasm\", \"w\") as file:\n",
    "    file.write(qasm_str)\n",
    "\n",
    "# 导入上述保存的 OpenQASM 格式，并绘图，查看是否一致\n",
    "my_circuit = qml.from_qasm_file(\"circuit.qasm\")\n",
    "\n",
    "# drawer = qml.draw(my_circuit)\n",
    "# print(drawer())\n",
    "\n",
    "# for l in range(0, len(c)):\n",
    "#     for lp in range(0, len(c)):\n",
    "#         for j in range(0, qubits):\n",
    "#              circuit_until.local_hadamard_test(weights, l=l, lp=lp, j=j, part=\"Re\")"
   ]
  },
  {
   "cell_type": "code",
   "execution_count": null,
   "metadata": {},
   "outputs": [],
   "source": []
  }
 ],
 "metadata": {
  "kernelspec": {
   "display_name": "pennylane_new",
   "language": "python",
   "name": "python3"
  },
  "language_info": {
   "codemirror_mode": {
    "name": "ipython",
    "version": 3
   },
   "file_extension": ".py",
   "mimetype": "text/x-python",
   "name": "python",
   "nbconvert_exporter": "python",
   "pygments_lexer": "ipython3",
   "version": "3.9.18"
  }
 },
 "nbformat": 4,
 "nbformat_minor": 4
}
