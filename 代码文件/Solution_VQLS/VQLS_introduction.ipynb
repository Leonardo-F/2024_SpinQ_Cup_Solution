{
 "cells": [
  {
   "cell_type": "markdown",
   "metadata": {
    "collapsed": false,
    "jupyter": {
     "outputs_hidden": false
    }
   },
   "source": [
    "### 使用 VQLS 算法求解"
   ]
  },
  {
   "cell_type": "code",
   "execution_count": 1,
   "metadata": {},
   "outputs": [],
   "source": [
    "# 导入必要的库\n",
    "import numpy as np\n",
    "\n",
    "import pennylane as qml"
   ]
  },
  {
   "cell_type": "code",
   "execution_count": 2,
   "metadata": {},
   "outputs": [
    {
     "name": "stdout",
     "output_type": "stream",
     "text": [
      "True\n"
     ]
    }
   ],
   "source": [
    "# 定义矩阵 A 和向量 b\n",
    "A_matrix = np.array([[2, 5, -13],\n",
    "              [1, -3, 1],\n",
    "              [-5, 6, 8]]).astype(float)\n",
    "\n",
    "b_vec = np.array([1000, 0, -600]).astype(float)\n",
    "\n",
    "\n",
    "x_vec = np.array([1200, 500, 300]).astype(float)\n",
    "\n",
    "# 将矩阵 A 变成一个厄尔米特矩阵\n",
    "H_matrix = np.block([[np.zeros((3, 3)), A_matrix], [A_matrix.T, np.zeros((3, 3))]])\n",
    "\n",
    "# 将 H_matrix 变为 8×8，方便用 pauli 算子的线性组合来表示\n",
    "H_matrix_2 = np.zeros((8, 8))\n",
    "\n",
    "for i in range(H_matrix.shape[0]):\n",
    "    for j in range(H_matrix.shape[0]):\n",
    "        H_matrix_2[i,j] = H_matrix[i,j]\n",
    "        \n",
    "        \n",
    "# 对厄密矩阵进行 pauli 分解\n",
    "# 使用 qml.pauli_decompose 进行 Pauli 分解，使用 3 个 qubit\n",
    "H_decomposition = qml.pauli_decompose(H_matrix_2, wire_order=[0, 1, 2])\n",
    "\n",
    "coeffs = H_decomposition.coeffs\n",
    "ops = H_decomposition.ops\n",
    "\n",
    "\n",
    "# 相对应的 b 和 x  也要进行维度拓展，以适应 H_matrixs\n",
    "b_vec_2 = np.zeros((8))\n",
    "b_vec_2[:3] = b_vec\n",
    "b_vec_2 = b_vec_2.reshape((-1,1))\n",
    "\n",
    "x_vec_2 = np.zeros((8))\n",
    "x_vec_2[3:6] = x_vec\n",
    "x_vec_2 = x_vec_2.reshape((-1,1))\n",
    "\n",
    "# 查看拓展的线性方程组是否正确\n",
    "print(np.all(H_decomposition.sparse_matrix().toarray().real @ x_vec_2 == b_vec_2))\n"
   ]
  },
  {
   "cell_type": "code",
   "execution_count": 3,
   "metadata": {},
   "outputs": [
    {
     "name": "stdout",
     "output_type": "stream",
     "text": [
      "原向量:  [1000.    0. -600.    0.    0.    0.    0.    0.]\n",
      "归一化后的向量:  [ 0.85749293  0.         -0.51449576  0.          0.          0.\n",
      "  0.          0.        ]\n"
     ]
    }
   ],
   "source": [
    "# x_vec_2， b_vec_2 归一化成量子态\n",
    "\n",
    "# 计算范数\n",
    "b_norm = np.linalg.norm(b_vec_2)\n",
    "# 归一化向量，转回行向量，方便后续计算\n",
    "b_normalized = (b_vec_2 / b_norm).reshape(-1)\n",
    "\n",
    "print(\"原向量: \", b_vec_2.reshape(-1))\n",
    "print(\"归一化后的向量: \", b_normalized)"
   ]
  },
  {
   "cell_type": "code",
   "execution_count": 4,
   "metadata": {},
   "outputs": [
    {
     "name": "stdout",
     "output_type": "stream",
     "text": [
      "原向量:  [   0.    0.    0. 1200.  500.  300.    0.    0.]\n",
      "归一化后的向量:  [0.         0.         0.         0.89943803 0.37476584 0.22485951\n",
      " 0.         0.        ]\n"
     ]
    }
   ],
   "source": [
    "x_norm = np.linalg.norm(x_vec_2)\n",
    "x_normalized = (x_vec_2 / x_norm).reshape(-1)\n",
    "print(\"原向量: \", x_vec_2.reshape(-1))\n",
    "print(\"归一化后的向量: \", x_normalized)"
   ]
  },
  {
   "cell_type": "code",
   "execution_count": 11,
   "metadata": {},
   "outputs": [
    {
     "data": {
      "text/plain": [
       "array([[   0.,    0.,    0., 1200.,  500.,  300.,    0.,    0.]])"
      ]
     },
     "execution_count": 11,
     "metadata": {},
     "output_type": "execute_result"
    }
   ],
   "source": [
    "# 从量子态 |x> 恢复成解 x，不需要 ||x||\n",
    "b_norm * x_normalized/(np.sqrt(x_normalized.reshape(1,-1) \n",
    "@ H_matrix_2.T.conj() @ H_matrix_2 @ x_normalized.reshape(-1,1)))"
   ]
  },
  {
   "cell_type": "code",
   "execution_count": null,
   "metadata": {},
   "outputs": [],
   "source": []
  }
 ],
 "metadata": {
  "kernelspec": {
   "display_name": "pennylane_new",
   "language": "python",
   "name": "python3"
  },
  "language_info": {
   "codemirror_mode": {
    "name": "ipython",
    "version": 3
   },
   "file_extension": ".py",
   "mimetype": "text/x-python",
   "name": "python",
   "nbconvert_exporter": "python",
   "pygments_lexer": "ipython3",
   "version": "3.11.9"
  }
 },
 "nbformat": 4,
 "nbformat_minor": 4
}
