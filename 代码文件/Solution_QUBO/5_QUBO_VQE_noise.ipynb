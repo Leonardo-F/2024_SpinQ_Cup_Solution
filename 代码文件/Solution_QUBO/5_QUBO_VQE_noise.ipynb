{
 "cells": [
  {
   "cell_type": "markdown",
   "metadata": {
    "collapsed": false,
    "jupyter": {
     "outputs_hidden": false
    }
   },
   "source": [
    "##### 生成线性方程组的哈密顿量，在真机噪声的环境下使用 VQE 求解得到基态及其基态能量，初始参数由最优参数随机扰动形成，尝试进行迭代优化，并与无噪进行对比。\n",
    "\n",
    "注意，本文件运行是需要包含的 qiskit 的环境，用于引入噪声，即 requirements_noise"
   ]
  },
  {
   "cell_type": "code",
   "execution_count": 1,
   "metadata": {},
   "outputs": [],
   "source": [
    "# 导入必要的库\n",
    "import time\n",
    "import pennylane as qml\n",
    "import numpy as np\n",
    "import matplotlib.pyplot as plt\n",
    "from pennylane import numpy as qml_np\n",
    "\n",
    "# 引入真机噪声\n",
    "from qiskit_aer import noise\n",
    "from qiskit_aer import AerSimulator, Aer\n",
    "import pickle\n",
    "\n",
    "# 自己构造的函数\n",
    "import hamiltonian_until\n",
    "import VQE_until"
   ]
  },
  {
   "cell_type": "code",
   "execution_count": 2,
   "metadata": {},
   "outputs": [
    {
     "name": "stdout",
     "output_type": "stream",
     "text": [
      "error =  [ 0.4492667  -0.42448014  0.0134753   0.15472742  0.16507589 -0.31506694\n",
      "  0.01497241  0.35614091 -0.41607379 -0.22661082  0.26570597  0.07882925]\n",
      "params =  [5.16163973 4.28797876 1.58425936 4.86709964 4.8774276  1.25574156\n",
      " 1.58577618 1.92688623 1.15474026 4.48577641 1.83660525 4.79125114]\n"
     ]
    }
   ],
   "source": [
    "# 参数设置\n",
    "steps = 10  # 迭代次数\n",
    "eta = 0.4  # 学习率\n",
    "seed = 1024 # 种子数\n",
    "tol = 1e-4 # 终止条件\n",
    "deep_layer = 1 # 电路层数\n",
    "\n",
    "\n",
    "# 量子数\n",
    "tol_qubits = hamiltonian_until.tol_qubits\n",
    "\n",
    "# 一层电路时的最优参数\n",
    "params_old = qml_np.array([4.71237303, 4.7124589,  1.57078406, 4.71237222, 4.71235171, 1.5708085,\n",
    " 1.57080377, 1.57074532, 1.57081405, 4.71238723, 1.57089928, 4.71242189])\n",
    "\n",
    "# 在最优参数附近，添加扰动\n",
    "error = qml_np.random.uniform(low=-0.5, high=0.5, size=(deep_layer * tol_qubits,))\n",
    "\n",
    "params = params_old + error\n",
    "# params = params_old\n",
    "print(\"error = \", error)\n",
    "print(\"params = \", params)"
   ]
  },
  {
   "cell_type": "code",
   "execution_count": 3,
   "metadata": {},
   "outputs": [
    {
     "name": "stderr",
     "output_type": "stream",
     "text": [
      "C:\\Users\\Administrator\\AppData\\Local\\Temp\\ipykernel_9944\\2943898470.py:4: DeprecationWarning: from_dict has been deprecated as of qiskit-aer 0.10.0 and will be removed no earlier than 3 months from that release date.\n",
      "  noise_model = noise.NoiseModel().from_dict(pickle.load(file))\n",
      "f:\\Users\\Administrator\\anaconda3\\envs\\pennylane_mitigated\\lib\\site-packages\\pennylane_qiskit\\qiskit_device.py:162: UserWarning: The analytic calculation of expectations, variances and probabilities is only supported on statevector backends, not on the aer_simulator_statevector. Such statistics obtained from this device are estimates based on samples.\n",
      "  warnings.warn(self.hw_analytic_warning_message.format(backend), UserWarning)\n",
      "C:\\Users\\Administrator\\AppData\\Local\\Temp\\ipykernel_9944\\2943898470.py:4: DeprecationWarning: from_dict has been deprecated as of qiskit-aer 0.10.0 and will be removed no earlier than 3 months from that release date.\n",
      "  noise_model = noise.NoiseModel().from_dict(pickle.load(file))\n"
     ]
    }
   ],
   "source": [
    "# 加载真机噪声\n",
    "def configure_backend():\n",
    "    with open('NoiseModel/fakemontreal.pkl', 'rb') as file:\n",
    "        noise_model = noise.NoiseModel().from_dict(pickle.load(file))\n",
    "    backend = AerSimulator(\n",
    "        method='statevector',\n",
    "        noise_model=noise_model,\n",
    "    )\n",
    "\n",
    "    # backend.set_options(device='GPU')\n",
    "    return backend\n",
    "\n",
    "# 构造设备\n",
    "# 有噪\n",
    "dev_noise = qml.device('qiskit.aer', wires=tol_qubits, shots=None, backend=configure_backend())\n",
    "dev_noise_sample = qml.device('qiskit.aer', wires=tol_qubits, shots=1024, backend=configure_backend())\n",
    "\n",
    "# 无噪\n",
    "dev_ideal = qml.device(\"default.qubit\", wires=tol_qubits, shots=None)\n",
    "dev_ideal_sample = qml.device(\"default.qubit\", wires=tol_qubits, shots=1024)\n",
    "\n",
    "# 定义损失函数\n",
    "cost_fn = VQE_until.variational_circuit_expval # 返回哈密顿量期望值\n",
    "prob_fn = VQE_until.variational_circuit_prob   # 返回电路的概率 \n",
    "\n",
    "# 创建运行节点\n",
    "qnode_noise = qml.QNode(cost_fn, dev_noise)\n",
    "qnode_noise_sample = qml.QNode(cost_fn, dev_noise_sample)\n",
    "\n",
    "qnode_ideal = qml.QNode(cost_fn, dev_ideal)\n",
    "qnode_ideal_sample = qml.QNode(cost_fn, dev_ideal_sample)\n",
    "\n",
    "\n",
    "# 创建返回电路各基态概率的节点\n",
    "qnode_noise_prob = qml.QNode(prob_fn, dev_noise)\n",
    "qnode_noise_sample_prob = qml.QNode(prob_fn, dev_noise_sample)\n",
    "\n",
    "qnode_ideal_prob = qml.QNode(prob_fn, dev_ideal)\n",
    "qnode_ideal_sample_prob = qml.QNode(prob_fn, dev_ideal_sample)"
   ]
  },
  {
   "cell_type": "code",
   "execution_count": 4,
   "metadata": {},
   "outputs": [
    {
     "name": "stdout",
     "output_type": "stream",
     "text": [
      "noise_value =  4671.0498046875\n",
      "noise_prob 940 =  0.7646484375\n",
      "ideal_value =  5074.735045812266\n",
      "ideal_prob 940 =  0.7853045632197279\n"
     ]
    }
   ],
   "source": [
    "# 基于非测量的节点的出值对比\n",
    "noise_value = qnode_noise(params, deep_layer)\n",
    "ideal_value = qnode_ideal(params, deep_layer)\n",
    "\n",
    "noise_prob = qnode_noise_prob(params, deep_layer)\n",
    "ideal_prob = qnode_ideal_prob(params, deep_layer)\n",
    "\n",
    "print(\"noise_value = \", noise_value)\n",
    "print(\"noise_prob 940 = \", noise_prob[940])\n",
    "\n",
    "print(\"ideal_value = \", ideal_value)\n",
    "print(\"ideal_prob 940 = \", ideal_prob[940])"
   ]
  },
  {
   "cell_type": "code",
   "execution_count": 5,
   "metadata": {},
   "outputs": [
    {
     "name": "stdout",
     "output_type": "stream",
     "text": [
      "noise_sample_value =  6681.3671875\n",
      "noise_sample_prob 940 =  0.77734375\n",
      "ideal_sample_value =  5199.890625\n",
      "ideal_sample_prob 940 =  0.7861328125\n"
     ]
    }
   ],
   "source": [
    "# 基于测量的节点的出值对比\n",
    "noise_sample_value = qnode_noise_sample(params, deep_layer)\n",
    "ideal_sample_value = qnode_ideal_sample(params, deep_layer)\n",
    "\n",
    "noise_sample_prob = qnode_noise_sample_prob(params, deep_layer)\n",
    "ideal_sample_prob = qnode_ideal_sample_prob(params, deep_layer)\n",
    "\n",
    "print(\"noise_sample_value = \", noise_sample_value)\n",
    "print(\"noise_sample_prob 940 = \", noise_sample_prob[940])\n",
    "\n",
    "print(\"ideal_sample_value = \", ideal_sample_value)\n",
    "print(\"ideal_sample_prob 940 = \", ideal_sample_prob[940])"
   ]
  },
  {
   "cell_type": "code",
   "execution_count": 6,
   "metadata": {},
   "outputs": [
    {
     "name": "stdout",
     "output_type": "stream",
     "text": [
      "Step = 1,  Energy = 3097.85058594, Time = 3181.739690065384\n",
      "Step = 3,  Energy = 3357.26269531, Time = 3188.7011816501617\n",
      "Step = 5,  Energy = 18909.94921875, Time = 3197.437467813492\n",
      "Step = 7,  Energy = 1819.75585938, Time = 3238.472232580185\n",
      "Step = 9,  Energy = 4178.85156250, Time = 3317.802481174469\n",
      "\n",
      "Final value of the ground-state energy = 6325.69238281\n",
      "\n",
      "Optimal value of the circuit parameter = [4.55298965 4.49180278 1.50765422 4.88895401 4.65764962 1.07404392\n",
      " 1.68486474 1.90871567 1.43820582 4.7905775  1.47480147 4.70484817]\n"
     ]
    }
   ],
   "source": [
    "# 不考虑测量，直接进行迭代优化\n",
    "\n",
    "# 优化器\n",
    "# opt = qml.GradientDescentOptimizer(stepsize=0.1)\n",
    "opt = qml.AdamOptimizer(stepsize=eta)\n",
    "\n",
    "qml_np.random.seed(seed)\n",
    "\n",
    "# 存储损失值和参数\n",
    "noise_cost_history = []\n",
    "noise_params_history = [params]\n",
    "\n",
    "for it in range(steps):\n",
    "    \n",
    "    start = time.time()\n",
    "    \n",
    "    params_lsit, cost = opt.step_and_cost(qnode_noise, params, deep_layer)\n",
    "    # print(\"params_lsit = \", params_lsit)\n",
    "    # print(\"cost = \", cost)\n",
    "\n",
    "    # 返回来的 list，包含参数和deep_layer等\n",
    "    params = params_lsit[0]\n",
    "    # 存储每一次更新后的参数及损失值\n",
    "    noise_params_history.append(params)\n",
    "    noise_cost_history.append(cost)\n",
    "    \n",
    "    end = time.time()\n",
    "    \n",
    "    if it % 2:\n",
    "        print(f\"Step = {it},  Energy = {noise_cost_history[-1]:.8f}, Time = {end - start}\")\n",
    "\n",
    "    # 终止条件\n",
    "    if len(noise_cost_history) !=1 and abs(noise_cost_history[-1] - noise_cost_history[-2]) < tol:\n",
    "        break    \n",
    "\n",
    "# 上述存储过程，energy_list 比 params_list 少了最后一项       \n",
    "noise_cost_history.append(qnode_noise(params, deep_layer))\n",
    "\n",
    "print(\"\\n\" f\"Final value of the ground-state energy = {noise_cost_history[-1]:.8f}\")\n",
    "print(\"\\n\" f\"Optimal value of the circuit parameter = {noise_params_history[-1]}\")"
   ]
  },
  {
   "cell_type": "code",
   "execution_count": 7,
   "metadata": {},
   "outputs": [
    {
     "name": "stdout",
     "output_type": "stream",
     "text": [
      "Step = 1,  Energy = 1726.99572623, Time = 5.1053221225738525\n",
      "Step = 3,  Energy = 898.47784547, Time = 5.224059343338013\n",
      "Step = 5,  Energy = 1612.57142596, Time = 5.485656023025513\n",
      "Step = 7,  Energy = 1474.25726110, Time = 5.539215803146362\n",
      "Step = 9,  Energy = 361.15408238, Time = 5.279855728149414\n",
      "\n",
      "Final value of the ground-state energy = 345.07043820\n",
      "\n",
      "Optimal value of the circuit parameter = [4.71080248 4.53416023 1.49195836 4.76065032 4.70325846 1.66726905\n",
      " 1.55718063 1.64066633 1.47948966 4.72509977 1.50288049 4.70799253]\n"
     ]
    }
   ],
   "source": [
    "# 无噪声情况下的迭代优化，且不进行测量\n",
    "\n",
    "# 存储损失值和参数\n",
    "ideal_cost_history = []\n",
    "ideal_params_history = [params]\n",
    "\n",
    "for it in range(steps):\n",
    "    \n",
    "    start = time.time()\n",
    "    \n",
    "    params_lsit, cost = opt.step_and_cost(qnode_ideal, params, deep_layer)\n",
    "    # print(\"params_lsit = \", params_lsit)\n",
    "    # print(\"cost = \", cost)\n",
    "\n",
    "    # 返回来的 list，包含参数和deep_layer等\n",
    "    params = params_lsit[0]\n",
    "    # 存储每一次更新后的参数及损失值\n",
    "    ideal_params_history.append(params)\n",
    "    ideal_cost_history.append(cost)\n",
    "    \n",
    "    end = time.time()\n",
    "    \n",
    "    if it % 2:\n",
    "        print(f\"Step = {it},  Energy = {ideal_cost_history[-1]:.8f}, Time = {end - start}\")\n",
    "\n",
    "    # 终止条件\n",
    "    if len(ideal_cost_history) !=1 and abs(ideal_cost_history[-1] - ideal_cost_history[-2]) < tol:\n",
    "        break    \n",
    "\n",
    "# 上述存储过程，energy_list 比 params_list 少了最后一项       \n",
    "ideal_cost_history.append(qnode_ideal(params, deep_layer))\n",
    "\n",
    "print(\"\\n\" f\"Final value of the ground-state energy = {ideal_cost_history[-1]:.8f}\")\n",
    "print(\"\\n\" f\"Optimal value of the circuit parameter = {ideal_params_history[-1]}\")"
   ]
  },
  {
   "cell_type": "code",
   "execution_count": 8,
   "metadata": {},
   "outputs": [
    {
     "name": "stdout",
     "output_type": "stream",
     "text": [
      "abs error noise =  6461.6923828125\n",
      "abs error ideal =  481.07043819908864\n"
     ]
    },
    {
     "data": {
      "image/png": "[encoded data removed]",
      "text/plain": [
       "<Figure size 640x480 with 1 Axes>"
      ]
     },
     "metadata": {},
     "output_type": "display_data"
    }
   ],
   "source": [
    "min_eigenvalue = hamiltonian_until.min_eigenvalue\n",
    "\n",
    "print(\"abs error noise = \", abs(min_eigenvalue - noise_cost_history[-1]))\n",
    "print(\"abs error ideal = \", abs(min_eigenvalue - ideal_cost_history[-1]))\n",
    "\n",
    "length = max(len(ideal_cost_history), len(noise_cost_history))\n",
    "\n",
    "# 绘图比较\n",
    "plt.grid()\n",
    "plt.plot(range(length), min_eigenvalue * np.ones(length), color='r', linestyle='-.', label='Ground State Energy')\n",
    "plt.plot(range(len(ideal_cost_history)), ideal_cost_history, color='b', linestyle=':', label='VQE (ideal)')\n",
    "plt.plot(range(len(noise_cost_history)), noise_cost_history, color='g', linestyle='--', label='VQE (noise)')\n",
    "\n",
    "plt.xlabel('Optimization step')\n",
    "plt.ylabel('Energy')\n",
    "\n",
    "plt.legend()\n",
    "plt.title(f'Loss for VQE on the Hamiltonian of a system of Linear equations')\n",
    "plt.show()"
   ]
  },
  {
   "cell_type": "code",
   "execution_count": 9,
   "metadata": {},
   "outputs": [
    {
     "name": "stdout",
     "output_type": "stream",
     "text": [
      "noise_prob =  [0. 0. 0. ... 0. 0. 0.]\n",
      "noise_prob 940 =  0.873046875\n",
      "ideal_prob =  [4.85936268e-19 1.17962295e-32 2.03473596e-21 ... 1.62445298e-23\n",
      " 1.47755661e-30 3.87952361e-21]\n",
      "ideal_prob 940 =  0.9831552692199108\n"
     ]
    }
   ],
   "source": [
    "# 正确答案的量子态\n",
    "min_eigenvector = hamiltonian_until.min_eigenvector\n",
    "\n",
    "\n",
    "# 返回测量概率\n",
    "noise_prob = qnode_noise_prob(noise_params_history[-1], deep_layer)\n",
    "ideal_prob = qnode_ideal_prob(ideal_params_history[-1], deep_layer)\n",
    "\n",
    "print(\"noise_prob = \", noise_prob)\n",
    "print(\"noise_prob 940 = \", noise_prob[940])\n",
    "\n",
    "print(\"ideal_prob = \", ideal_prob)\n",
    "print(\"ideal_prob 940 = \", ideal_prob[940])"
   ]
  },
  {
   "cell_type": "code",
   "execution_count": null,
   "metadata": {},
   "outputs": [],
   "source": []
  }
 ],
 "metadata": {
  "kernelspec": {
   "display_name": "pennylane_new",
   "language": "python",
   "name": "python3"
  },
  "language_info": {
   "codemirror_mode": {
    "name": "ipython",
    "version": 3
   },
   "file_extension": ".py",
   "mimetype": "text/x-python",
   "name": "python",
   "nbconvert_exporter": "python",
   "pygments_lexer": "ipython3",
   "version": "3.9.18"
  }
 },
 "nbformat": 4,
 "nbformat_minor": 4
}
