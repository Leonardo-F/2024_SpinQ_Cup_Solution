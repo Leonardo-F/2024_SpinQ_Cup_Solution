{
 "cells": [
  {
   "cell_type": "markdown",
   "metadata": {
    "collapsed": false,
    "jupyter": {
     "outputs_hidden": false
    }
   },
   "source": [
    "### 构造可以生成 b state 的量子电路\n",
    "\n",
    "注意，本文件运行是需要包含的 qiskit 的环境，即 requirements_noise"
   ]
  },
  {
   "cell_type": "code",
   "execution_count": 1,
   "metadata": {},
   "outputs": [],
   "source": [
    "# 导入必要的库\n",
    "# from jax import numpy as jnp\n",
    "# import jax    # 机器学习库\n",
    "# import optax  # 优化器\n",
    "import matplotlib.pyplot as plt\n",
    "\n",
    "import pennylane as qml\n",
    "\n",
    "from pennylane import numpy as np\n",
    "import VQLS_until\n",
    "\n",
    "from qasm_until import export_to_openqasm"
   ]
  },
  {
   "cell_type": "code",
   "execution_count": 2,
   "metadata": {},
   "outputs": [
    {
     "name": "stdout",
     "output_type": "stream",
     "text": [
      "[ 0.85749293  0.         -0.51449576  0.          0.          0.\n",
      "  0.          0.        ]\n",
      "1.0\n",
      "1.0000000000000002\n"
     ]
    }
   ],
   "source": [
    "b_vec = np.array([1000, 0, -600]).astype(float)\n",
    "\n",
    "# 相对应的 b 和 x  也要进行维度拓展，以适应 H_matrixs\n",
    "b_vec_2 = np.zeros((8))\n",
    "b_vec_2[:3] = b_vec\n",
    "b_norm = np.linalg.norm(b_vec_2)\n",
    "\n",
    "# 归一化向量，转回行向量，方便后续计算\n",
    "b_normalized = (b_vec_2 / b_norm)\n",
    "\n",
    "print(b_normalized)\n",
    "\n",
    "rho = b_normalized.reshape(-1,1) @ b_normalized.reshape(1,-1)\n",
    "\n",
    "print(np.trace(rho))\n",
    "print(np.trace(rho @ rho))"
   ]
  },
  {
   "cell_type": "code",
   "execution_count": 3,
   "metadata": {},
   "outputs": [
    {
     "name": "stdout",
     "output_type": "stream",
     "text": [
      "0: ───────────╭●───────────╭●────╭●────╭●──RZ(-0.79)─╭●───────────╭●──────────────╭●─────────────\n",
      "1: ──RY(0.54)─╰X──RY(0.54)─╰X─╭●─│──╭●─│───RZ(0.79)──╰X──RZ(0.79)─╰X─╭●───────────│────────────╭●\n",
      "2: ───────────────────────────╰X─╰X─╰X─╰X──RZ(-0.79)─────────────────╰X──RZ(0.79)─╰X──RZ(0.79)─╰X\n",
      "\n",
      "─────────────╭●─┤  State\n",
      "─────────────│──┤  State\n",
      "───RZ(-0.79)─╰X─┤  State\n"
     ]
    }
   ],
   "source": [
    "dev = qml.device(\"lightning.qubit\", wires=3)\n",
    "\n",
    "# 生成 b_vec_2 的量子电路 ， |b_vec_2 > = U_b |0>\n",
    "@qml.qnode(dev)\n",
    "def U_b_circuit(state):\n",
    "    qml.MottonenStatePreparation(state_vector=state, wires=[0,1,2])\n",
    "    return qml.state()\n",
    "\n",
    "# 现有电路图\n",
    "print(qml.draw(VQLS_until.U_b_circuit, expansion_strategy=\"device\")(b_normalized))\n"
   ]
  },
  {
   "cell_type": "code",
   "execution_count": 4,
   "metadata": {},
   "outputs": [],
   "source": [
    "# 定义一个变分电路\n",
    "@qml.qnode(dev)\n",
    "def b_circuit():\n",
    "    qml.RY(0.54, wires=1)\n",
    "    qml.CNOT([0,1])\n",
    "    qml.RY(0.54, wires=1)\n",
    "    qml.CNOT([0,1])\n",
    "    \n",
    "    qml.CNOT([1,2])\n",
    "    qml.CNOT([0,2])\n",
    "    qml.CNOT([1,2])\n",
    "    qml.CNOT([0,2])\n",
    "    \n",
    "    qml.RZ(-0.79, wires=0) \n",
    "    qml.RZ(0.79, wires=1) \n",
    "    qml.RZ(-0.79, wires=2) \n",
    "    \n",
    "    qml.CNOT([0,1])\n",
    "    qml.RZ(0.79, wires=1) \n",
    "    qml.CNOT([0,1])\n",
    "    \n",
    "    qml.CNOT([1,2])\n",
    "    qml.RZ(0.79, wires=2)\n",
    "    qml.CNOT([0,2]) \n",
    "    qml.RZ(0.79, wires=2)\n",
    "    qml.CNOT([1,2]) \n",
    "    qml.RZ(-0.79, wires=1) \n",
    "    qml.CNOT([0,2]) \n",
    "\n",
    "    return qml.state()\n"
   ]
  },
  {
   "cell_type": "code",
   "execution_count": 5,
   "metadata": {},
   "outputs": [
    {
     "name": "stdout",
     "output_type": "stream",
     "text": [
      "[ 0.79166217-0.33005332j  0.        +0.j         -0.20220286+0.47270479j\n",
      "  0.        +0.j          0.        +0.j          0.        +0.j\n",
      "  0.        +0.j          0.        +0.j        ]\n",
      "[0.73566418 0.         0.26433582 0.         0.         0.\n",
      " 0.         0.        ]\n"
     ]
    }
   ],
   "source": [
    "b_state = b_circuit()\n",
    "print(b_state)\n",
    "print(abs(b_state)**2)"
   ]
  },
  {
   "cell_type": "code",
   "execution_count": 6,
   "metadata": {},
   "outputs": [
    {
     "data": {
      "text/plain": [
       "tensor([0.73529412, 0.        , 0.26470588, 0.        , 0.        ,\n",
       "        0.        , 0.        , 0.        ], requires_grad=True)"
      ]
     },
     "execution_count": 6,
     "metadata": {},
     "output_type": "execute_result"
    }
   ],
   "source": [
    "b_normalized**2"
   ]
  },
  {
   "cell_type": "markdown",
   "metadata": {},
   "source": [
    "将电路存储成 openqasm 形式"
   ]
  },
  {
   "cell_type": "code",
   "execution_count": 7,
   "metadata": {},
   "outputs": [
    {
     "name": "stdout",
     "output_type": "stream",
     "text": [
      "1: ──RY(0.54)─╭X──RY(0.54)─╭X─╭●────╭●──RZ(0.79)────────────╭X──RZ(0.79)─╭X─╭●─────────────\n",
      "0: ───────────╰●───────────╰●─│──╭●─│──╭●─────────RZ(-0.79)─╰●───────────╰●─│────────────╭●\n",
      "2: ───────────────────────────╰X─╰X─╰X─╰X─────────RZ(-0.79)─────────────────╰X──RZ(0.79)─╰X\n",
      "\n",
      "────────────╭●──RZ(-0.79)─┤  \n",
      "────────────│──╭●─────────┤  \n",
      "───RZ(0.79)─╰X─╰X─────────┤  \n"
     ]
    }
   ],
   "source": [
    "# 定义电路函数\n",
    "circuit_fn = b_circuit\n",
    "# 创建运行节点\n",
    "qnode = qml.QNode(circuit_fn, dev)\n",
    "\n",
    "qnode()\n",
    "\n",
    "# 获取量子电路的量子脚本\n",
    "quantum_script = qnode.tape\n",
    "\n",
    "# 导出电路为 OpenQASM 格式\n",
    "qasm_str = export_to_openqasm(quantum_script)\n",
    "\n",
    "# 保存到文件\n",
    "with open(\"Ub_circuit.qasm\", \"w\") as file:\n",
    "    file.write(qasm_str)\n",
    "    \n",
    "# 导入上述保存的 OpenQASM 格式，并绘图，查看是否一致\n",
    "my_circuit = qml.from_qasm_file(\"Ub_circuit.qasm\")\n",
    "\n",
    "drawer = qml.draw(my_circuit)\n",
    "print(drawer())"
   ]
  },
  {
   "cell_type": "code",
   "execution_count": null,
   "metadata": {},
   "outputs": [],
   "source": []
  },
  {
   "cell_type": "code",
   "execution_count": null,
   "metadata": {},
   "outputs": [],
   "source": []
  }
 ],
 "metadata": {
  "kernelspec": {
   "display_name": "pennylane_new",
   "language": "python",
   "name": "python3"
  },
  "language_info": {
   "codemirror_mode": {
    "name": "ipython",
    "version": 3
   },
   "file_extension": ".py",
   "mimetype": "text/x-python",
   "name": "python",
   "nbconvert_exporter": "python",
   "pygments_lexer": "ipython3",
   "version": "3.9.18"
  }
 },
 "nbformat": 4,
 "nbformat_minor": 4
}
