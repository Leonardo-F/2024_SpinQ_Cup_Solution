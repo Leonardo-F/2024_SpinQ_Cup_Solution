{
 "cells": [
  {
   "cell_type": "markdown",
   "metadata": {
    "collapsed": false,
    "jupyter": {
     "outputs_hidden": false
    }
   },
   "source": [
    "### 计算最优参数时的损失函数"
   ]
  },
  {
   "cell_type": "code",
   "execution_count": 1,
   "metadata": {},
   "outputs": [],
   "source": [
    "# 导入必要的库\n",
    "import pennylane as qml\n",
    "from pennylane import numpy as qml_np\n",
    "import VQLS_until"
   ]
  },
  {
   "cell_type": "code",
   "execution_count": 2,
   "metadata": {},
   "outputs": [
    {
     "name": "stdout",
     "output_type": "stream",
     "text": [
      "loss_value =  5.376024680980862e-09\n"
     ]
    }
   ],
   "source": [
    "# 最优参数\n",
    "w = qml_np.array([3.14161205e+00,  5.80377608e+00,  3.93857269e+00,\n",
    "         4.71236102e+00,  4.42799279e+00,  5.32962513e+00,\n",
    "         2.88556879e-05, -6.91562619e-02,  4.79375314e-01])\n",
    "\n",
    "loss_value = VQLS_until.cost_loc(w)\n",
    "\n",
    "print(\"loss_value = \", loss_value)"
   ]
  }
 ],
 "metadata": {
  "kernelspec": {
   "display_name": "pennylane_new",
   "language": "python",
   "name": "python3"
  },
  "language_info": {
   "codemirror_mode": {
    "name": "ipython",
    "version": 3
   },
   "file_extension": ".py",
   "mimetype": "text/x-python",
   "name": "python",
   "nbconvert_exporter": "python",
   "pygments_lexer": "ipython3",
   "version": "3.11.9"
  }
 },
 "nbformat": 4,
 "nbformat_minor": 4
}
