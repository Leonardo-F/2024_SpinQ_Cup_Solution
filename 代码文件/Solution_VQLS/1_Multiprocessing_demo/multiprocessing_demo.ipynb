{
 "cells": [
  {
   "cell_type": "markdown",
   "metadata": {
    "collapsed": false,
    "jupyter": {
     "outputs_hidden": false
    }
   },
   "source": [
    "### 使用 VQLS 算法求解"
   ]
  },
  {
   "cell_type": "code",
   "execution_count": 1,
   "metadata": {},
   "outputs": [],
   "source": [
    "# 导入必要的库\n",
    "import matplotlib.pyplot as plt\n",
    "import pennylane as qml\n",
    "from pennylane import numpy as qml_np\n",
    "import time\n",
    "import numpy as np\n",
    "import multiprocessing as mp\n",
    "import multiprocessing_until"
   ]
  },
  {
   "cell_type": "code",
   "execution_count": 2,
   "metadata": {},
   "outputs": [
    {
     "data": {
      "text/plain": [
       "192"
      ]
     },
     "execution_count": 2,
     "metadata": {},
     "output_type": "execute_result"
    }
   ],
   "source": [
    "mp.cpu_count()"
   ]
  },
  {
   "cell_type": "code",
   "execution_count": 3,
   "metadata": {},
   "outputs": [
    {
     "name": "stdout",
     "output_type": "stream",
     "text": [
      "[4.06956402 6.26379276 3.25973705 4.13504424 3.7640268  4.73166161\n",
      " 0.85606595 0.02586861 0.939392  ]\n"
     ]
    }
   ],
   "source": [
    "# 参数设置\n",
    "steps = 30  # 迭代次数\n",
    "eta = 0.8  # 学习率\n",
    "seed = 1024 # 种子数\n",
    "tol = 1e-4 # 终止条件\n",
    "deep_layer = 3 # 电路层数\n",
    "qubits = 3\n",
    "\n",
    "qml_np.random.seed(seed)\n",
    "\n",
    "# suijicanshu \n",
    "w = qml_np.random.uniform(low=0, high=2*np.pi, size=(deep_layer * qubits,))\n",
    "print(w)\n"
   ]
  },
  {
   "cell_type": "code",
   "execution_count": 4,
   "metadata": {
    "scrolled": true
   },
   "outputs": [
    {
     "name": "stdout",
     "output_type": "stream",
     "text": [
      "step  =  0\n"
     ]
    },
    {
     "name": "stderr",
     "output_type": "stream",
     "text": [
      "/root/miniconda3/envs/pennylane_gpu/lib/python3.9/multiprocessing/popen_fork.py:66: RuntimeWarning: os.fork() was called. os.fork() is incompatible with multithreaded code, and JAX is multithreaded, so this will likely lead to a deadlock.\n",
      "  self.pid = os.fork()\n"
     ]
    },
    {
     "name": "stdout",
     "output_type": "stream",
     "text": [
      "0.23369106062032752\n",
      "Cost_L = 0.1057841\n",
      "time =  143.40147185325623\n",
      "step  =  1\n",
      "0.10578409186396742\n",
      "Cost_L = 0.0323417\n",
      "time =  140.32336711883545\n",
      "step  =  2\n",
      "0.032341744567352615\n",
      "Cost_L = 0.0080868\n",
      "time =  134.611563205719\n",
      "step  =  3\n",
      "0.008086788860123373\n",
      "Cost_L = 0.0051265\n",
      "time =  139.07733154296875\n",
      "step  =  4\n",
      "0.005126543330929212\n",
      "Cost_L = 0.0050141\n",
      "time =  134.61700105667114\n",
      "step  =  5\n",
      "0.005014107986077876\n",
      "Cost_L = 0.0050156\n",
      "time =  137.01700592041016\n",
      "step  =  6\n",
      "0.005015567788772768\n",
      "Cost_L = 0.0048247\n",
      "time =  141.26332354545593\n",
      "step  =  7\n",
      "0.004824685039372556\n",
      "Cost_L = 0.0044846\n",
      "time =  134.60225081443787\n",
      "step  =  8\n",
      "0.004484606370021016\n",
      "Cost_L = 0.0040798\n",
      "time =  139.90402221679688\n",
      "step  =  9\n",
      "0.004079791602672578\n",
      "Cost_L = 0.0036791\n",
      "time =  136.69877219200134\n",
      "step  =  10\n",
      "0.0036791064860581812\n",
      "Cost_L = 0.0033279\n",
      "time =  139.8993043899536\n",
      "step  =  11\n",
      "0.0033278633036751826\n",
      "Cost_L = 0.0030489\n",
      "time =  138.6230731010437\n",
      "step  =  12\n",
      "0.003048870028815931\n",
      "Cost_L = 0.0028453\n",
      "time =  133.69782376289368\n",
      "step  =  13\n",
      "0.0028453164891465987\n",
      "Cost_L = 0.0027054\n",
      "time =  137.9976658821106\n",
      "step  =  14\n",
      "0.00270535929091259\n",
      "Cost_L = 0.0026087\n",
      "time =  134.8584017753601\n",
      "step  =  15\n",
      "0.0026087115824814378\n",
      "Cost_L = 0.0025342\n",
      "time =  138.08570384979248\n",
      "step  =  16\n",
      "0.002534168567920103\n",
      "Cost_L = 0.0024658\n",
      "time =  135.85794639587402\n",
      "step  =  17\n",
      "0.002465825387066911\n",
      "Cost_L = 0.0023960\n",
      "time =  134.38740038871765\n",
      "step  =  18\n",
      "0.002395962209111202\n",
      "Cost_L = 0.0023242\n",
      "time =  136.40977931022644\n",
      "step  =  19\n",
      "0.0023242037327059206\n",
      "Cost_L = 0.0022544\n",
      "time =  132.69941639900208\n",
      "step  =  20\n",
      "0.002254385362137401\n",
      "Cost_L = 0.0021912\n",
      "time =  142.25911903381348\n",
      "step  =  21\n",
      "0.0021912232466984594\n",
      "Cost_L = 0.0021382\n",
      "time =  138.72650241851807\n",
      "step  =  22\n",
      "0.0021381855511810044\n",
      "Cost_L = 0.0020968\n",
      "time =  138.55740094184875\n",
      "step  =  23\n",
      "0.0020967996199351413\n",
      "Cost_L = 0.0020669\n",
      "time =  138.82310724258423\n",
      "step  =  24\n",
      "0.0020669023937027187\n",
      "Cost_L = 0.0020472\n",
      "time =  132.6322159767151\n",
      "step  =  25\n",
      "0.0020472383364870117\n",
      "Cost_L = 0.0020360\n",
      "time =  137.48465418815613\n",
      "step  =  26\n",
      "0.0020360293891863446\n",
      "Cost_L = 0.0020314\n",
      "time =  135.0967161655426\n",
      "step  =  27\n",
      "0.002031378611779766\n",
      "Cost_L = 0.0020315\n",
      "time =  138.10048294067383\n",
      "step  =  28\n",
      "0.002031505449243909\n",
      "Cost_L = 0.0020349\n",
      "time =  137.464035987854\n",
      "step  =  29\n",
      "0.0020348577524452738\n",
      "Cost_L = 0.0020401\n",
      "time =  136.02001929283142\n"
     ]
    }
   ],
   "source": [
    "# 创建自定义优化器\n",
    "opt = multiprocessing_until.CustomOptimizer(eta)\n",
    "\n",
    "cost_history = []\n",
    "w_history = []\n",
    "for it in range(steps):\n",
    "    print(\"step  = \", it)\n",
    "    \n",
    "    start = time.time()\n",
    "    \n",
    "    w, cost = opt.step_and_cost(multiprocessing_until.cost_loc, w)\n",
    "    w_history.append(w)\n",
    "    cost_history.append(cost)\n",
    "    \n",
    "    end = time.time()\n",
    "    \n",
    "    print(\"Cost_L = {:9.7f}\".format(cost))\n",
    "    print(\"time = \", end - start)\n",
    "\n",
    "    if cost < tol:\n",
    "        break    "
   ]
  },
  {
   "cell_type": "code",
   "execution_count": 5,
   "metadata": {},
   "outputs": [
    {
     "name": "stderr",
     "output_type": "stream",
     "text": [
      "No artists with labels found to put in legend.  Note that artists whose label start with an underscore are ignored when legend() is called with no argument.\n"
     ]
    },
    {
     "data": {
      "image/png": "[encoded data removed]",
      "text/plain": [
       "<Figure size 1000x600 with 1 Axes>"
      ]
     },
     "metadata": {},
     "output_type": "display_data"
    }
   ],
   "source": [
    "# 创建图形和轴\n",
    "plt.figure(figsize=(10, 6))\n",
    "\n",
    "# 绘制折线图\n",
    "plt.plot(range(len(cost_history)), cost_history)\n",
    "\n",
    "# 添加标题和标签\n",
    "plt.ylabel(\"Cost function\")\n",
    "plt.xlabel(\"Optimization steps\")\n",
    "plt.grid()\n",
    "plt.legend()\n",
    "\n",
    "# 显示图形\n",
    "plt.show()"
   ]
  },
  {
   "cell_type": "code",
   "execution_count": 6,
   "metadata": {},
   "outputs": [
    {
     "name": "stdout",
     "output_type": "stream",
     "text": [
      "c_probs =  [0.         0.         0.         0.80898876 0.14044944 0.0505618\n",
      " 0.         0.        ]\n",
      "q_probs =  [0.00341797 0.00732422 0.0078125  0.33837891 0.04882812 0.56640625\n",
      " 0.01171875 0.01611328]\n",
      "x_normalized =  [0.         0.         0.         0.89943803 0.37476584 0.22485951\n",
      " 0.         0.        ]\n",
      "x_state =  [ 0.06342419+0.j  0.09005711+0.j  0.08825919+0.j  0.57769205+0.j\n",
      "  0.22796859+0.j -0.75215802+0.j -0.12070895+0.j  0.11860557+0.j]\n",
      "x_state_value=  [[  5.18231708+0.j   7.35846203+0.j   7.21155662+0.j  47.20255012+0.j\n",
      "   18.62705005+0.j -61.45796275+0.j  -9.86298859+0.j   9.69112388+0.j]]\n"
     ]
    },
    {
     "name": "stderr",
     "output_type": "stream",
     "text": [
      "/root/miniconda3/envs/pennylane_gpu/lib/python3.9/site-packages/pennylane/_qubit_device.py:666: UserWarning: Requested state or density matrix with finite shots; the returned state information is analytic and is unaffected by sampling. To silence this warning, set shots=None on the device.\n",
      "  warnings.warn(\n"
     ]
    }
   ],
   "source": [
    "x_normalized = multiprocessing_until.x_normalized\n",
    "H_matrix_2 = multiprocessing_until.H_matrix_2\n",
    "b_norm = multiprocessing_until.b_norm\n",
    "\n",
    "# 表示经典情况下，量子态在每个基向量上的概率\n",
    "c_probs = (x_normalized) ** 2\n",
    "\n",
    "# 返回测量值(shots = 2048)，或者是返回量子态形式\n",
    "shots = 2048\n",
    "x_sample = multiprocessing_until.sample_and_state(w, method='sample')\n",
    "x_state = multiprocessing_until.sample_and_state(w, method='state')\n",
    "\n",
    "# 将各种测量结果汇总，获得相关概率\n",
    "samples = []\n",
    "for sam in x_sample:\n",
    "    samples.append(int(\"\".join(str(bs) for bs in sam), base=2))\n",
    "\n",
    "q_probs = np.bincount(samples) / shots\n",
    "\n",
    "\n",
    "value = np.sqrt((H_matrix_2 @ x_state.real.reshape(-1,1)).conj().T @ (H_matrix_2 @ x_state.real.reshape(-1,1)))\n",
    "x_state_value = b_norm * x_state/value\n",
    "\n",
    "print(\"c_probs = \", c_probs)\n",
    "print(\"q_probs = \", q_probs)\n",
    "print(\"x_normalized = \", x_normalized)\n",
    "print(\"x_state = \", x_state)\n",
    "print(\"x_state_value= \", x_state_value)\n"
   ]
  },
  {
   "cell_type": "code",
   "execution_count": 8,
   "metadata": {},
   "outputs": [
    {
     "data": {
      "image/png": "[encoded data removed]",
      "text/plain": [
       "<Figure size 1200x800 with 4 Axes>"
      ]
     },
     "metadata": {},
     "output_type": "display_data"
    }
   ],
   "source": [
    "fig, ((ax1, ax2), (ax3, ax4)) = plt.subplots(2, 2, figsize=(12, 8))\n",
    "\n",
    "ax1.bar(np.arange(0, 2 ** qubits), c_probs, color=\"blue\")\n",
    "ax1.set_xlim(-0.5, 2 ** qubits - 0.5)\n",
    "ax1.set_xlabel(\"Vector space basis\")\n",
    "ax1.set_title(\"Classical probabilities\")\n",
    "ax1.grid(True)  \n",
    "\n",
    "ax2.bar(np.arange(0, 2 ** qubits), q_probs, color=\"green\")\n",
    "ax2.set_xlim(-0.5, 2 ** qubits - 0.5)\n",
    "ax2.set_xlabel(\"Hilbert space basis\")\n",
    "ax2.set_title(\"Quantum probabilities\")\n",
    "ax2.grid(True)\n",
    "\n",
    "# 调整布局以防止子图重叠\n",
    "plt.tight_layout()\n",
    "plt.show()"
   ]
  },
  {
   "cell_type": "code",
   "execution_count": 11,
   "metadata": {},
   "outputs": [
    {
     "name": "stdout",
     "output_type": "stream",
     "text": [
      "cost_history =  [0.10578409186396742, 0.032341744567352615, 0.008086788860123373, 0.005126543330929212, 0.005014107986077876, 0.005015567788772768, 0.004824685039372556, 0.004484606370021016, 0.004079791602672578, 0.0036791064860581812, 0.0033278633036751826, 0.003048870028815931, 0.0028453164891465987, 0.00270535929091259, 0.0026087115824814378, 0.002534168567920103, 0.002465825387066911, 0.002395962209111202, 0.0023242037327059206, 0.002254385362137401, 0.0021912232466984594, 0.0021381855511810044, 0.0020967996199351413, 0.0020669023937027187, 0.0020472383364870117, 0.0020360293891863446, 0.002031378611779766, 0.002031505449243909, 0.0020348577524452738, 0.002040147618944832]\n"
     ]
    }
   ],
   "source": [
    "print(\"cost_history = \", cost_history)\n",
    "# print(\"w_history = \", w_history)"
   ]
  },
  {
   "cell_type": "code",
   "execution_count": 12,
   "metadata": {},
   "outputs": [
    {
     "data": {
      "text/plain": [
       "tensor([4.47641446, 5.63449017, 4.48172876, 3.65588352, 2.92052642,\n",
       "        4.36835527, 1.20978976, 0.48213525, 0.31008941], requires_grad=True)"
      ]
     },
     "execution_count": 12,
     "metadata": {},
     "output_type": "execute_result"
    }
   ],
   "source": [
    "w"
   ]
  },
  {
   "cell_type": "code",
   "execution_count": null,
   "metadata": {},
   "outputs": [],
   "source": []
  }
 ],
 "metadata": {
  "kernelspec": {
   "display_name": "pennylane_gpu",
   "language": "python",
   "name": "pennylane_gpu"
  },
  "language_info": {
   "codemirror_mode": {
    "name": "ipython",
    "version": 3
   },
   "file_extension": ".py",
   "mimetype": "text/x-python",
   "name": "python",
   "nbconvert_exporter": "python",
   "pygments_lexer": "ipython3",
   "version": "3.9.18"
  }
 },
 "nbformat": 4,
 "nbformat_minor": 4
}
