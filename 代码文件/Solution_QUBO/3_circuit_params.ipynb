{
 "cells": [
  {
   "cell_type": "markdown",
   "metadata": {
    "collapsed": false,
    "jupyter": {
     "outputs_hidden": false
    }
   },
   "source": [
    "### 构造可以生成 x state 的变分量子电路"
   ]
  },
  {
   "cell_type": "code",
   "execution_count": 1,
   "metadata": {},
   "outputs": [],
   "source": [
    "# 导入必要的库\n",
    "import time\n",
    "import pennylane as qml\n",
    "from pennylane import numpy as np\n",
    "import matplotlib.pyplot as plt\n",
    "\n",
    "import hamiltonian_until"
   ]
  },
  {
   "cell_type": "code",
   "execution_count": 2,
   "metadata": {},
   "outputs": [],
   "source": [
    "# 参数设置\n",
    "steps = 500  # 迭代次数\n",
    "eta = 0.1  # 学习率\n",
    "seed = 1024 # 种子数\n",
    "tol = 1e-8 # 终止条件\n",
    "deep_layer = 1 # 电路层数\n",
    "\n",
    "# 损失函数计算损失值的方法，state 模式暂时还未在优化器中跑通\n",
    "method = 'expval' \n",
    "\n",
    "# 量子数\n",
    "tol_qubits = hamiltonian_until.tol_qubits\n",
    "\n",
    "# 优化器\n",
    "# opt = qml.GradientDescentOptimizer(stepsize=0.1)\n",
    "opt = qml.AdamOptimizer(stepsize=0.1)\n",
    "\n",
    "np.random.seed(seed)\n",
    "\n",
    "params = np.random.uniform(low=0, high=2*np.pi, size=(deep_layer * tol_qubits,))\n",
    "\n",
    "# 需要学习的量子态\n",
    "min_eigenvector = np.array(hamiltonian_until.min_eigenvector)"
   ]
  },
  {
   "cell_type": "code",
   "execution_count": 3,
   "metadata": {},
   "outputs": [],
   "source": [
    "dev = qml.device(\"default.qubit\", wires=12)\n",
    "@qml.qnode(dev)\n",
    "def variational_circuit_state(weights, deep_layer):\n",
    "\n",
    "    for idx in range(tol_qubits):\n",
    "        qml.Hadamard(wires=idx)\n",
    "\n",
    "    for deep in range(deep_layer):\n",
    "        # A very minimal variational circuit.\n",
    "        for k in range(tol_qubits):\n",
    "            qml.RY(weights[k+deep*tol_qubits], wires=k)\n",
    "    \n",
    "        for j in range(tol_qubits-1):\n",
    "            qml.CNOT(wires=[j, j+1])\n",
    "        qml.CNOT(wires=[tol_qubits-1, 0])\n",
    "        \n",
    "    return qml.state()\n",
    "\n",
    "# 定义损失函数\n",
    "def cost(params):\n",
    "    prepared_state = variational_circuit_state(params, deep_layer)\n",
    "    return 1 - np.real(np.dot(np.conj(min_eigenvector), prepared_state))"
   ]
  },
  {
   "cell_type": "code",
   "execution_count": 4,
   "metadata": {},
   "outputs": [
    {
     "name": "stdout",
     "output_type": "stream",
     "text": [
      "Iteration 0: Cost = 1.0009798240914645\n",
      "Iteration 10: Cost = 0.7702673273164435\n",
      "Iteration 20: Cost = 0.17832537986027797\n",
      "Iteration 30: Cost = 0.022354701292487622\n",
      "Iteration 40: Cost = 0.025019031479115328\n",
      "Iteration 50: Cost = 0.009666111287634616\n",
      "Iteration 60: Cost = 0.0007904325726005856\n",
      "Iteration 70: Cost = 0.0016471351136259083\n",
      "Iteration 80: Cost = 0.00014663745051435306\n",
      "Iteration 90: Cost = 0.000180068736806982\n",
      "Iteration 100: Cost = 3.0358920735440442e-05\n",
      "Iteration 110: Cost = 3.159948328923523e-05\n",
      "Iteration 120: Cost = 3.169005248881973e-06\n",
      "Iteration 130: Cost = 2.6865252160668263e-06\n",
      "Iteration 140: Cost = 4.663294017603903e-07\n",
      "Iteration 150: Cost = 2.0183057825029493e-07\n",
      "Iteration 160: Cost = 1.75460929785487e-07\n",
      "Iteration 170: Cost = 2.549475652813271e-08\n",
      "Iteration 180: Cost = 1.5373851525168902e-08\n"
     ]
    }
   ],
   "source": [
    "# 优化参数\n",
    "for i in range(steps):\n",
    "    params, cost_val = opt.step_and_cost(cost, params)\n",
    "    if cost_val < tol:\n",
    "        break\n",
    "    if i % 10 == 0:\n",
    "        print(f\"Iteration {i}: Cost = {cost_val}\")\n",
    "\n"
   ]
  },
  {
   "cell_type": "code",
   "execution_count": 5,
   "metadata": {},
   "outputs": [
    {
     "name": "stdout",
     "output_type": "stream",
     "text": [
      "Final cost: 6.036235178363825e-09\n",
      "Optimized parameters: [4.71237303 4.7124589  1.57078406 4.71237222 4.71235171 1.5708085\n",
      " 1.57080377 1.57074532 1.57081405 4.71238723 1.57089928 4.71242189]\n",
      "Prepared Quantum State:\n",
      "[ 1.61630984e-30+0.j -7.41360846e-45+0.j -5.16651746e-31+0.j ...\n",
      " -1.80610486e-35+0.j -2.12072612e-40+0.j  5.65027618e-35+0.j]\n"
     ]
    }
   ],
   "source": [
    "print(f\"Final cost: {cost_val}\")\n",
    "print(f\"Optimized parameters: {params}\")\n",
    "\n",
    "# 打印最终准备的量子态\n",
    "final_state = variational_circuit_state(params, deep_layer)\n",
    "print(\"Prepared Quantum State:\")\n",
    "print(final_state)"
   ]
  },
  {
   "cell_type": "code",
   "execution_count": 6,
   "metadata": {},
   "outputs": [
    {
     "data": {
      "text/plain": [
       "940"
      ]
     },
     "execution_count": 6,
     "metadata": {},
     "output_type": "execute_result"
    }
   ],
   "source": [
    "np.argmax(min_eigenvector)"
   ]
  },
  {
   "cell_type": "code",
   "execution_count": 7,
   "metadata": {},
   "outputs": [
    {
     "data": {
      "text/plain": [
       "940"
      ]
     },
     "execution_count": 7,
     "metadata": {},
     "output_type": "execute_result"
    }
   ],
   "source": [
    "np.argmax(final_state)"
   ]
  },
  {
   "cell_type": "code",
   "execution_count": 9,
   "metadata": {},
   "outputs": [
    {
     "data": {
      "text/plain": [
       "0.9999999972791008"
      ]
     },
     "execution_count": 9,
     "metadata": {},
     "output_type": "execute_result"
    }
   ],
   "source": [
    "np.real(np.dot(min_eigenvector, final_state))"
   ]
  },
  {
   "cell_type": "code",
   "execution_count": null,
   "metadata": {},
   "outputs": [],
   "source": []
  }
 ],
 "metadata": {
  "kernelspec": {
   "display_name": "pennylane_new",
   "language": "python",
   "name": "python3"
  },
  "language_info": {
   "codemirror_mode": {
    "name": "ipython",
    "version": 3
   },
   "file_extension": ".py",
   "mimetype": "text/x-python",
   "name": "python",
   "nbconvert_exporter": "python",
   "pygments_lexer": "ipython3",
   "version": "3.11.9"
  }
 },
 "nbformat": 4,
 "nbformat_minor": 4
}
